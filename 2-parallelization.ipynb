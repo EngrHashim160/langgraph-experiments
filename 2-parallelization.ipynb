{
 "cells": [
  {
   "cell_type": "code",
   "execution_count": 1,
   "id": "91406652",
   "metadata": {},
   "outputs": [],
   "source": [
    "import os\n",
    "from typing import TypedDict\n",
    "from langgraph.graph import StateGraph, START, END\n",
    "from IPython.display import Image, display\n",
    "from dotenv import load_dotenv\n",
    "load_dotenv()\n",
    "\n",
    "from langchain_openai import ChatOpenAI"
   ]
  },
  {
   "cell_type": "code",
   "execution_count": 2,
   "id": "ce1085d7",
   "metadata": {},
   "outputs": [
    {
     "data": {
      "text/plain": [
       "AIMessage(content='Hello! How can I assist you today?', additional_kwargs={'refusal': None}, response_metadata={'token_usage': {'completion_tokens': 9, 'prompt_tokens': 9, 'total_tokens': 18, 'completion_tokens_details': {'accepted_prediction_tokens': 0, 'audio_tokens': 0, 'reasoning_tokens': 0, 'rejected_prediction_tokens': 0}, 'prompt_tokens_details': {'audio_tokens': 0, 'cached_tokens': 0}}, 'model_name': 'gpt-3.5-turbo-0125', 'system_fingerprint': None, 'id': 'chatcmpl-C6scqb61OtDU0S3EuV2sXwJLLIHxV', 'service_tier': 'default', 'finish_reason': 'stop', 'logprobs': None}, id='run--ae6650e6-2804-46f8-8dd4-0db57cdf8803-0', usage_metadata={'input_tokens': 9, 'output_tokens': 9, 'total_tokens': 18, 'input_token_details': {'audio': 0, 'cache_read': 0}, 'output_token_details': {'audio': 0, 'reasoning': 0}})"
      ]
     },
     "execution_count": 2,
     "metadata": {},
     "output_type": "execute_result"
    }
   ],
   "source": [
    "llm = ChatOpenAI()\n",
    "llm.invoke(\"Hi!\")"
   ]
  },
  {
   "cell_type": "markdown",
   "id": "f4a49b56",
   "metadata": {},
   "source": [
    "### Graph State"
   ]
  },
  {
   "cell_type": "code",
   "execution_count": 3,
   "id": "d7a96c3f",
   "metadata": {},
   "outputs": [],
   "source": [
    "class State(TypedDict):\n",
    "    topic: str\n",
    "    characters: str\n",
    "    settings: str\n",
    "    premises: str\n",
    "    story_intro: str"
   ]
  },
  {
   "cell_type": "markdown",
   "id": "8986f69f",
   "metadata": {},
   "source": [
    "#### Nodes Definitions"
   ]
  },
  {
   "cell_type": "code",
   "execution_count": 8,
   "id": "5e1a1eb6",
   "metadata": {},
   "outputs": [],
   "source": [
    "def generate_characters(state: State):\n",
    "    \"\"\"Generate character Descriptions\"\"\"\n",
    "    msg = llm.invoke(f\"Create two character names and brief traits for a story about {state['topic']}\")\n",
    "    return {\n",
    "        'characters': msg.content\n",
    "    }"
   ]
  },
  {
   "cell_type": "code",
   "execution_count": 5,
   "id": "017d5cf5",
   "metadata": {},
   "outputs": [],
   "source": [
    "def generate_setting(state: State):\n",
    "    \"\"\"Generate a story setting\"\"\"\n",
    "    msg = llm.invoke(f\"Describe a vivid for a story about {state['topic']}\")\n",
    "    return {\n",
    "        'settings': msg.content\n",
    "    }"
   ]
  },
  {
   "cell_type": "code",
   "execution_count": 6,
   "id": "9efc70bc",
   "metadata": {},
   "outputs": [],
   "source": [
    "def generate_premise(state: State):\n",
    "    \"\"\"Generate a story premise\"\"\"\n",
    "    msg = llm.invoke(f\"Write a one-sentence plot premise for a story about {state['topic']}\")\n",
    "    return {\n",
    "        'premises': msg.content\n",
    "    }"
   ]
  },
  {
   "cell_type": "code",
   "execution_count": 7,
   "id": "6d6e5b15",
   "metadata": {},
   "outputs": [],
   "source": [
    "def combine_elements(state: State):\n",
    "    \"\"\"Combine characters, setting, and premise into an intro\"\"\"\n",
    "    msg = llm.invoke(\n",
    "        f\"Write a short story introduction using these elements: \\n\"\n",
    "        f\"Characters: {state['characters']}\\n\"\n",
    "        f\"Setting: {state['settings']}\"\n",
    "        f\"Premise: {state['premises']}\"\n",
    "    )\n",
    "    \n",
    "    return {\n",
    "        'story_intro': msg.content\n",
    "    }"
   ]
  },
  {
   "cell_type": "markdown",
   "id": "6fdebb15",
   "metadata": {},
   "source": [
    "### Build the Graph"
   ]
  },
  {
   "cell_type": "code",
   "execution_count": 9,
   "id": "3d743a91",
   "metadata": {},
   "outputs": [
    {
     "data": {
      "text/plain": [
       "<langgraph.graph.state.StateGraph at 0x2107f99cc20>"
      ]
     },
     "execution_count": 9,
     "metadata": {},
     "output_type": "execute_result"
    }
   ],
   "source": [
    "graph = StateGraph(State)\n",
    "graph.add_node('characters', generate_characters)\n",
    "graph.add_node('setting', generate_setting)\n",
    "graph.add_node('premise', generate_premise)\n",
    "graph.add_node('combine', combine_elements)"
   ]
  },
  {
   "cell_type": "code",
   "execution_count": 10,
   "id": "4d3de794",
   "metadata": {},
   "outputs": [
    {
     "data": {
      "text/plain": [
       "<langgraph.graph.state.StateGraph at 0x2107f99cc20>"
      ]
     },
     "execution_count": 10,
     "metadata": {},
     "output_type": "execute_result"
    }
   ],
   "source": [
    "graph.add_edge(START, 'characters')\n",
    "graph.add_edge(START, 'setting')\n",
    "graph.add_edge(START, 'premise')\n",
    "graph.add_edge('characters', 'combine')\n",
    "graph.add_edge('setting', 'combine')\n",
    "graph.add_edge('premise', 'combine')"
   ]
  },
  {
   "cell_type": "code",
   "execution_count": 11,
   "id": "4b451b36",
   "metadata": {},
   "outputs": [
    {
     "data": {
      "image/png": "[encoded data removed]",
      "text/plain": [
       "<IPython.core.display.Image object>"
      ]
     },
     "metadata": {},
     "output_type": "display_data"
    }
   ],
   "source": [
    "# Compile and run\n",
    "compiled_graph = graph.compile()\n",
    "graph_image = compiled_graph.get_graph().draw_mermaid_png()\n",
    "display(Image(graph_image))"
   ]
  },
  {
   "cell_type": "code",
   "execution_count": 12,
   "id": "7dc444c4",
   "metadata": {},
   "outputs": [
    {
     "data": {
      "text/plain": [
       "{'topic': 'Time Travel!',\n",
       " 'characters': \"1. Evelyn Harper - A brilliant scientist who has dedicated her life to studying time travel. She is determined, analytical, and fiercely independent.\\n\\n2. Jack Bennett - A charming and adventurous daredevil who stumbles upon Evelyn's research. He is charismatic, quick-witted, and always seeking the next thrill.\",\n",
       " 'settings': \"As the machine hummed and whirred, Sarah felt her heart race with excitement and fear. She stepped inside the sleek metal pod, her hands gripping the sides tightly as the door closed behind her. The scientist in charge of the experiment gave her a reassuring smile before flipping a switch and causing the room to spin and blur around her.\\n\\nSuddenly, everything went dark. Sarah felt like she was being pulled through a tunnel of swirling colors and patterns, her stomach lurching as she traveled through time and space. And then, with a jolt that made her gasp, the pod came to a stop.\\n\\nWhen Sarah opened her eyes, she found herself standing in a bustling marketplace unlike anything she had ever seen before. People in strange, colorful clothing bustled past her, speaking a language she couldn't understand. She looked down at her hands and saw that they were no longer the hands of a modern-day woman, but those of someone from a bygone era.\\n\\nRealization dawned on her. She had traveled back in time, to a world completely different from her own. As she navigated through the crowded streets, she couldn't help but marvel at the sights and sounds around her, pondering the possibilities of altering history or simply observing the world as it once was.\\n\\nBut as Sarah was lost in her thoughts, the machine behind her hummed to life once again. She had only a limited amount of time in this strange new world before she would be whisked back to her own time. With a mix of excitement and trepidation, she set off to explore this new land, unsure of what adventures or dangers lay ahead in her unexpected journey through time.\",\n",
       " 'premises': 'A scientist invents a time machine and must navigate the dangers of altering the past while trying to save the future from a catastrophic event.',\n",
       " 'story_intro': \"Evelyn Harper had dedicated her entire life to the study of time travel, pouring over countless theories and experiments in her quest to unlock the secrets of the universe. And finally, after years of hard work and determination, she had succeeded in creating a functioning time machine.\\n\\nBut when the charming daredevil, Jack Bennett, stumbled upon her research, Evelyn's carefully laid plans were thrown into disarray. Jack's quick wit and adventurous spirit drew him to the machine like a moth to a flame, and before Evelyn could stop him, he had stepped inside and disappeared into the vortex of time.\\n\\nAs the machine hummed and whirred once again, Evelyn's heart raced with fear and excitement. She knew the dangers of altering the past, of the catastrophic consequences that could arise from even the smallest change. And now, with Jack lost somewhere in the depths of time, she had no choice but to follow him.\\n\\nWith a deep breath, Evelyn stepped inside the pod and braced herself for the journey ahead. She was determined to find Jack, to bring him back safely and prevent any disastrous repercussions from his reckless actions. But as the pod lurched forward and the room spun around her, Evelyn couldn't shake the feeling that their adventure through time was only just beginning.\"}"
      ]
     },
     "execution_count": 12,
     "metadata": {},
     "output_type": "execute_result"
    }
   ],
   "source": [
    "initial_state = {\n",
    "    'topic': \"Time Travel!\"\n",
    "}\n",
    "\n",
    "result = compiled_graph.invoke(initial_state)\n",
    "\n",
    "result"
   ]
  },
  {
   "cell_type": "code",
   "execution_count": 13,
   "id": "747fc19f",
   "metadata": {},
   "outputs": [
    {
     "data": {
      "text/plain": [
       "\"Evelyn Harper had dedicated her entire life to the study of time travel, pouring over countless theories and experiments in her quest to unlock the secrets of the universe. And finally, after years of hard work and determination, she had succeeded in creating a functioning time machine.\\n\\nBut when the charming daredevil, Jack Bennett, stumbled upon her research, Evelyn's carefully laid plans were thrown into disarray. Jack's quick wit and adventurous spirit drew him to the machine like a moth to a flame, and before Evelyn could stop him, he had stepped inside and disappeared into the vortex of time.\\n\\nAs the machine hummed and whirred once again, Evelyn's heart raced with fear and excitement. She knew the dangers of altering the past, of the catastrophic consequences that could arise from even the smallest change. And now, with Jack lost somewhere in the depths of time, she had no choice but to follow him.\\n\\nWith a deep breath, Evelyn stepped inside the pod and braced herself for the journey ahead. She was determined to find Jack, to bring him back safely and prevent any disastrous repercussions from his reckless actions. But as the pod lurched forward and the room spun around her, Evelyn couldn't shake the feeling that their adventure through time was only just beginning.\""
      ]
     },
     "execution_count": 13,
     "metadata": {},
     "output_type": "execute_result"
    }
   ],
   "source": [
    "result['story_intro']"
   ]
  },
  {
   "cell_type": "code",
   "execution_count": null,
   "id": "d43c45f3",
   "metadata": {},
   "outputs": [],
   "source": []
  }
 ],
 "metadata": {
  "kernelspec": {
   "display_name": "Python 3",
   "language": "python",
   "name": "python3"
  },
  "language_info": {
   "codemirror_mode": {
    "name": "ipython",
    "version": 3
   },
   "file_extension": ".py",
   "mimetype": "text/x-python",
   "name": "python",
   "nbconvert_exporter": "python",
   "pygments_lexer": "ipython3",
   "version": "3.13.5"
  }
 },
 "nbformat": 4,
 "nbformat_minor": 5
}
